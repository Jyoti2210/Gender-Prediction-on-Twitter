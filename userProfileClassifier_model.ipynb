{
 "cells": [
  {
   "cell_type": "code",
   "execution_count": 20,
   "metadata": {
    "collapsed": true
   },
   "outputs": [],
   "source": [
    "import pandas as pd\n",
    "import numpy as np\n",
    "import re\n",
    "from time import time\n",
    "import matplotlib.pyplot as plt\n",
    "from sklearn.preprocessing import LabelEncoder\n",
    "from sklearn.feature_selection import RFE\n",
    "from sklearn.ensemble import RandomForestClassifier\n",
    "from sklearn.metrics import confusion_matrix, accuracy_score, classification_report, roc_curve, roc_auc_score"
   ]
  },
  {
   "cell_type": "code",
   "execution_count": 21,
   "metadata": {
    "collapsed": true
   },
   "outputs": [],
   "source": [
    "#loading the dataset\n",
    "dataset = pd.read_csv(\"gender-classifier.csv\", encoding = \"latin1\", usecols = [5,6,7,8,11,13,17,18,21,24,25])"
   ]
  },
  {
   "cell_type": "code",
   "execution_count": 22,
   "metadata": {
    "collapsed": true
   },
   "outputs": [],
   "source": [
    "#drop the records with profile_yn=no\n",
    "drop_items_idx = dataset[dataset['profile_yn'] == 'no'].index\n",
    "dataset.drop(dataset.index[drop_items_idx], inplace = True)\n",
    "\n",
    "#replace the null values with 0\n",
    "#replace the unknown category in the gender attribute with brand category\n",
    "dataset = dataset.fillna('0')\n",
    "dataset['gender'].replace(\"unknown\", \"brand\", inplace = True)"
   ]
  },
  {
   "cell_type": "code",
   "execution_count": 23,
   "metadata": {
    "collapsed": true
   },
   "outputs": [],
   "source": [
    "#clean the tweet_location and user_timezone attributes in the dataset\n",
    "with open(\"stopwords.txt\",\"r\") as file:\n",
    "    stopwords = file.read().split(\"\\n\")\n",
    "    \n",
    "def cleaning(s):\n",
    "    s = str(s)\n",
    "    s = s.lower()\n",
    "    sentence = []\n",
    "    for word in s.split(' '):\n",
    "        word = re.sub('[^\\w\\s]', '', word)\n",
    "        word = re.sub('\\s\\W','',word)  \n",
    "        word = re.sub('\\W\\s','',word) \n",
    "        if (word not in stopwords):\n",
    "            word = ''.join(char for char in word if ord(char)<128)\n",
    "            sentence.append(word)\n",
    "    return \" \".join(sentence)\n",
    "\n",
    "dataset['user_timezone'] = [cleaning(s) for s in dataset['user_timezone']]\n",
    "dataset['tweet_location'] = [cleaning(s) for s in dataset['tweet_location']]"
   ]
  },
  {
   "cell_type": "code",
   "execution_count": 24,
   "metadata": {
    "collapsed": true
   },
   "outputs": [],
   "source": [
    "#label encode all the attributes in the dataset\n",
    "gender_encoder = LabelEncoder()\n",
    "dataset['Gender'] = gender_encoder.fit_transform(dataset['gender'])\n",
    "dataset = dataset.drop(['gender'],axis = 1)\n",
    "\n",
    "from sklearn.preprocessing import Imputer\n",
    "imputer = Imputer(missing_values = 3, strategy = \"most_frequent\", axis = 0)\n",
    "dataset['Gender'] = imputer.fit_transform(dataset[['Gender']]).ravel()\n",
    "\n",
    "\n",
    "profile_encoder = LabelEncoder()\n",
    "dataset['profile_yn'] = profile_encoder.fit_transform(dataset['profile_yn'])\n",
    "\n",
    "linkColor_encoder = LabelEncoder()\n",
    "dataset['link_color'] = linkColor_encoder.fit_transform(dataset['link_color'])\n",
    "\n",
    "sidebar_encoder = LabelEncoder()\n",
    "dataset['sidebar_color'] = sidebar_encoder.fit_transform(dataset['sidebar_color'])\n",
    "\n",
    "timezone_encoder = LabelEncoder()\n",
    "dataset['user_timezone'] = timezone_encoder.fit_transform(dataset['user_timezone'])\n",
    "\n",
    "location_encoder = LabelEncoder()\n",
    "dataset['tweet_location'] = location_encoder.fit_transform(dataset['tweet_location'])"
   ]
  },
  {
   "cell_type": "code",
   "execution_count": 25,
   "metadata": {
    "collapsed": true
   },
   "outputs": [],
   "source": [
    "features = ['gender:confidence','profile_yn','profile_yn:confidence','fav_number','link_color','retweet_count','sidebar_color','tweet_count','tweet_location','user_timezone']\n",
    "x = dataset.loc[:,features].values\n",
    "y = dataset.loc[:,['Gender']].values"
   ]
  },
  {
   "cell_type": "code",
   "execution_count": 26,
   "metadata": {},
   "outputs": [
    {
     "name": "stderr",
     "output_type": "stream",
     "text": [
      "D:\\PythonInstaller\\lib\\site-packages\\sklearn\\utils\\validation.py:578: DataConversionWarning: A column-vector y was passed when a 1d array was expected. Please change the shape of y to (n_samples, ), for example using ravel().\n",
      "  y = column_or_1d(y, warn=True)\n"
     ]
    }
   ],
   "source": [
    "#Reduced feature elimination method to find and select the top 7 features from the dataset\n",
    "model = RandomForestClassifier(n_estimators = 100, random_state = 0, max_depth = 80)\n",
    "rfeSelector = RFE(model, 7)\n",
    "rfeSelector = rfeSelector.fit(x,y)\n",
    "x = rfeSelector.transform(x)"
   ]
  },
  {
   "cell_type": "code",
   "execution_count": 27,
   "metadata": {
    "collapsed": true
   },
   "outputs": [],
   "source": [
    "#split the dataset into train and test set\n",
    "from sklearn.model_selection import train_test_split\n",
    "x_train,x_test,y_train,y_test = train_test_split(x,y,test_size = 0.25, random_state = 0)"
   ]
  },
  {
   "cell_type": "code",
   "execution_count": 28,
   "metadata": {},
   "outputs": [
    {
     "name": "stdout",
     "output_type": "stream",
     "text": [
      "time taken:  0.006 s\n",
      "             precision    recall  f1-score   support\n",
      "\n",
      "      brand       0.55      0.49      0.52      1787\n",
      "     female       0.43      0.67      0.52      1646\n",
      "       male       0.40      0.21      0.28      1563\n",
      "\n",
      "avg / total       0.46      0.46      0.45      4996\n",
      "\n",
      "accuracy:  0.463370696557\n"
     ]
    },
    {
     "name": "stderr",
     "output_type": "stream",
     "text": [
      "D:\\PythonInstaller\\lib\\site-packages\\sklearn\\utils\\validation.py:578: DataConversionWarning: A column-vector y was passed when a 1d array was expected. Please change the shape of y to (n_samples, ), for example using ravel().\n",
      "  y = column_or_1d(y, warn=True)\n"
     ]
    }
   ],
   "source": [
    "#Multinomial Naive Bayes Classifier\n",
    "from sklearn.naive_bayes import MultinomialNB\n",
    "\n",
    "NaiveBayes_Classifier = MultinomialNB()\n",
    "NaiveBayes_Classifier.fit(x_train,y_train)\n",
    "t = time()\n",
    "y_predGNB = NaiveBayes_Classifier.predict(x_test)\n",
    "\n",
    "cm = confusion_matrix(y_test, y_predGNB)\n",
    "print(\"time taken: \", round(time() - t, 3), \"s\")\n",
    "print(classification_report(y_test, y_predGNB, target_names=['brand', 'female', 'male']))\n",
    "print(\"accuracy: \",NaiveBayes_Classifier.score(x_test,y_test))"
   ]
  },
  {
   "cell_type": "code",
   "execution_count": 29,
   "metadata": {},
   "outputs": [
    {
     "name": "stderr",
     "output_type": "stream",
     "text": [
      "D:\\PythonInstaller\\lib\\site-packages\\ipykernel_launcher.py:4: DataConversionWarning: A column-vector y was passed when a 1d array was expected. Please change the shape of y to (n_samples,), for example using ravel().\n",
      "  after removing the cwd from sys.path.\n"
     ]
    },
    {
     "name": "stdout",
     "output_type": "stream",
     "text": [
      "time taken:  0.239 s\n",
      "             precision    recall  f1-score   support\n",
      "\n",
      "      brand       0.63      0.69      0.66      1787\n",
      "     female       0.55      0.56      0.56      1646\n",
      "       male       0.47      0.41      0.44      1563\n",
      "\n",
      "avg / total       0.55      0.56      0.56      4996\n",
      "\n",
      "accuracy:  0.559647718175\n"
     ]
    }
   ],
   "source": [
    "#Random Forest Classifier\n",
    "from sklearn.ensemble import RandomForestClassifier\n",
    "RandomForest_classifier = RandomForestClassifier(n_estimators = 100, random_state = 0, max_depth=80)\n",
    "RandomForest_classifier.fit(x_train,y_train)\n",
    "t = time()\n",
    "y_predRFC = RandomForest_classifier.predict(x_test)\n",
    "\n",
    "cm = confusion_matrix(y_test, y_predRFC)\n",
    "print(\"time taken: \", round(time() - t, 3), \"s\")\n",
    "print(classification_report(y_test, y_predRFC, target_names=['brand', 'female', 'male']))\n",
    "print(\"accuracy: \",RandomForest_classifier.score(x_test,y_test))"
   ]
  },
  {
   "cell_type": "code",
   "execution_count": 30,
   "metadata": {},
   "outputs": [
    {
     "name": "stderr",
     "output_type": "stream",
     "text": [
      "D:\\PythonInstaller\\lib\\site-packages\\sklearn\\utils\\validation.py:578: DataConversionWarning: A column-vector y was passed when a 1d array was expected. Please change the shape of y to (n_samples, ), for example using ravel().\n",
      "  y = column_or_1d(y, warn=True)\n"
     ]
    },
    {
     "name": "stdout",
     "output_type": "stream",
     "text": [
      "time taken:  0.008 s\n",
      "             precision    recall  f1-score   support\n",
      "\n",
      "      brand       0.48      0.56      0.52      1787\n",
      "     female       0.45      0.50      0.47      1646\n",
      "       male       0.41      0.28      0.33      1563\n",
      "\n",
      "avg / total       0.45      0.45      0.45      4996\n",
      "\n",
      "accuracy:  0.452962369896\n"
     ]
    }
   ],
   "source": [
    "#Logistic Regression Classifier\n",
    "from sklearn.linear_model import LogisticRegression\n",
    "LogisticRegression_classifier = LogisticRegression(multi_class='ovr', random_state = 0)\n",
    "LogisticRegression_classifier.fit(x_train,y_train)\n",
    "t = time()\n",
    "y_predLR = LogisticRegression_classifier.predict(x_test)\n",
    "\n",
    "cm = confusion_matrix(y_test, y_predLR)\n",
    "print(\"time taken: \", round(time() - t, 3), \"s\")\n",
    "print(classification_report(y_test, y_predLR, target_names=['brand', 'female', 'male']))\n",
    "print(\"accuracy: \",LogisticRegression_classifier.score(x_test,y_test))"
   ]
  },
  {
   "cell_type": "code",
   "execution_count": 31,
   "metadata": {},
   "outputs": [
    {
     "name": "stderr",
     "output_type": "stream",
     "text": [
      "D:\\PythonInstaller\\lib\\site-packages\\sklearn\\preprocessing\\label.py:95: DataConversionWarning: A column-vector y was passed when a 1d array was expected. Please change the shape of y to (n_samples, ), for example using ravel().\n",
      "  y = column_or_1d(y, warn=True)\n",
      "D:\\PythonInstaller\\lib\\site-packages\\sklearn\\preprocessing\\label.py:128: DataConversionWarning: A column-vector y was passed when a 1d array was expected. Please change the shape of y to (n_samples, ), for example using ravel().\n",
      "  y = column_or_1d(y, warn=True)\n"
     ]
    },
    {
     "name": "stdout",
     "output_type": "stream",
     "text": [
      "time taken:  0.283 s\n",
      "             precision    recall  f1-score   support\n",
      "\n",
      "      brand       0.53      0.63      0.58      1787\n",
      "     female       0.48      0.59      0.53      1646\n",
      "       male       0.45      0.24      0.31      1563\n",
      "\n",
      "avg / total       0.49      0.50      0.48      4996\n",
      "\n",
      "accuracy:  0.496397117694\n"
     ]
    }
   ],
   "source": [
    "#Ensemble Classifier (Voting)\n",
    "from sklearn.ensemble import VotingClassifier\n",
    "ensemble_classifier = VotingClassifier(estimators=[('rf', RandomForest_classifier), ('lr', LogisticRegression_classifier),('mnb', NaiveBayes_Classifier),], voting='hard')\n",
    "ensemble_classifier.fit(x_train, y_train)\n",
    "t = time()\n",
    "y_predEnsem = ensemble_classifier.predict(x_test)\n",
    "\n",
    "cm = confusion_matrix(y_test, y_predEnsem)\n",
    "print(\"time taken: \", round(time() - t, 3), \"s\")\n",
    "print(classification_report(y_test, y_predEnsem, target_names=['brand', 'female', 'male']))\n",
    "print(\"accuracy: \", ensemble_classifier.score(x_test,y_test))"
   ]
  },
  {
   "cell_type": "code",
   "execution_count": 32,
   "metadata": {},
   "outputs": [
    {
     "data": {
      "text/plain": [
       "<matplotlib.figure.Figure at 0x1ba5d9b9438>"
      ]
     },
     "metadata": {},
     "output_type": "display_data"
    },
    {
     "data": {
      "image/png": "[encoded data removed]",
      "text/plain": [
       "<matplotlib.figure.Figure at 0x1ba5d9b9160>"
      ]
     },
     "metadata": {},
     "output_type": "display_data"
    }
   ],
   "source": [
    "#plotting roc curve\n",
    "y_test = [ i if (i==1) else 0 for i in y_test  ]\n",
    "\n",
    "plt.figure()\n",
    "plt.subplots(figsize=(8,6))\n",
    "\n",
    "y_predGNB = [ i if (i==1) else 0 for i in y_predGNB  ]\n",
    "fpr, tpr, _ = roc_curve(y_test, y_predGNB, pos_label=1)\n",
    "plt.plot(fpr, tpr, 'b', label=\"Naive Bayes, AUC=\" + str(round(roc_auc_score(y_test, y_predGNB), 3)))\n",
    "\n",
    "y_predRFC = [ i if (i==1) else 0 for i in y_predRFC ]\n",
    "fpr, tpr, _ = roc_curve(y_test, y_predRFC)\n",
    "plt.plot(fpr, tpr, 'r', label=\"Random Forest, AUC=\" + str(round(roc_auc_score(y_test, y_predRFC), 3)))\n",
    "\n",
    "y_predLR = [ i if (i==1) else 0 for i in y_predLR  ]\n",
    "fpr, tpr, _ = roc_curve(y_test, y_predLR)\n",
    "plt.plot(fpr, tpr, 'g', label=\"Logistic Regression, AUC=\" + str(round(roc_auc_score(y_test, y_predLR), 3)))\n",
    "\n",
    "y_predEnsem = [ i if (i==1) else 0 for i in y_predEnsem  ]\n",
    "fpr, tpr, _ = roc_curve(y_test, y_predEnsem)\n",
    "plt.plot(fpr, tpr, 'y', label=\"Ensemble, AUC=\" + str(round(roc_auc_score(y_test, y_predEnsem), 3)))\n",
    "\n",
    "plt.plot([0, 1], [0, 1], color='navy', lw=2, linestyle='--')\n",
    "plt.legend()\n",
    "plt.show()"
   ]
  },
  {
   "cell_type": "code",
   "execution_count": null,
   "metadata": {
    "collapsed": true
   },
   "outputs": [],
   "source": []
  }
 ],
 "metadata": {
  "kernelspec": {
   "display_name": "Python 3",
   "language": "python",
   "name": "python3"
  },
  "language_info": {
   "codemirror_mode": {
    "name": "ipython",
    "version": 3
   },
   "file_extension": ".py",
   "mimetype": "text/x-python",
   "name": "python",
   "nbconvert_exporter": "python",
   "pygments_lexer": "ipython3",
   "version": "3.6.4"
  }
 },
 "nbformat": 4,
 "nbformat_minor": 2
}
