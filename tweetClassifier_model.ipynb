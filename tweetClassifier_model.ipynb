{
 "cells": [
  {
   "cell_type": "code",
   "execution_count": 1,
   "metadata": {
    "collapsed": true
   },
   "outputs": [],
   "source": [
    "import numpy as np\n",
    "import pandas as pd\n",
    "import re\n",
    "import nltk\n",
    "from nltk.util import ngrams\n",
    "from time import time\n",
    "import matplotlib.pyplot as plt\n",
    "from wordcloud import WordCloud\n",
    "from sklearn.feature_selection import chi2\n",
    "from sklearn.feature_selection import SelectKBest\n",
    "from sklearn.preprocessing import LabelEncoder\n",
    "from sklearn.feature_extraction.text import TfidfVectorizer\n",
    "from sklearn.metrics import confusion_matrix, accuracy_score, classification_report, roc_curve, roc_auc_score"
   ]
  },
  {
   "cell_type": "code",
   "execution_count": 2,
   "metadata": {
    "collapsed": true
   },
   "outputs": [],
   "source": [
    "#read columns = 5(gender),7(profile_yn),10(description),19(text) from the given dataset\n",
    "data = pd.read_csv(\"gender-classifier.csv\", encoding = \"latin1\", usecols = [5,7,10,19])"
   ]
  },
  {
   "cell_type": "code",
   "execution_count": 3,
   "metadata": {
    "collapsed": true
   },
   "outputs": [],
   "source": [
    "#drop the records with profile_yn = no\n",
    "drop_items_idx = data[data['profile_yn'] == 'no'].index\n",
    "data.drop(data.index[drop_items_idx], inplace = True)"
   ]
  },
  {
   "cell_type": "code",
   "execution_count": 4,
   "metadata": {
    "collapsed": true
   },
   "outputs": [],
   "source": [
    "#drop the records with nan values in text and description attributes\n",
    "data = data.dropna(subset=['text','description'])"
   ]
  },
  {
   "cell_type": "code",
   "execution_count": 5,
   "metadata": {
    "collapsed": true
   },
   "outputs": [],
   "source": [
    "#encode the gender attributes using LabelEncoder\n",
    "#brand = 0, female = 1, male = 2, unknown = 3\n",
    "gender_encoder = LabelEncoder()\n",
    "data['Gender'] = gender_encoder.fit_transform(data['gender'])"
   ]
  },
  {
   "cell_type": "code",
   "execution_count": 6,
   "metadata": {
    "collapsed": true
   },
   "outputs": [],
   "source": [
    "#replace the records with gender = \"unkwown\" to the most_frequent value of the column\n",
    "from sklearn.preprocessing import Imputer\n",
    "imputer = Imputer(missing_values = 3, strategy = \"most_frequent\", axis = 0)\n",
    "data['Gender'] = imputer.fit_transform(data[['Gender']]).ravel()"
   ]
  },
  {
   "cell_type": "code",
   "execution_count": 7,
   "metadata": {},
   "outputs": [],
   "source": [
    "#open the stopwords file imported from the nltk library\n",
    "with open(\"stopwords.txt\",\"r\") as file:\n",
    "    stopwords = file.read().split(\"\\n\")\n",
    "        \n",
    "# clean the data in \"text\" and \"description\" attribute\n",
    "def cleaning(s):\n",
    "    s = str(s)\n",
    "    s = s.lower()\n",
    "    s = s.replace(\"'s\",' is')\n",
    "    s = s.replace(\"'re\",' are')\n",
    "    s = s.replace(\"'ve\",' have')\n",
    "    sentence = []\n",
    "    for word in s.split(' '):\n",
    "        word = re.sub(r'[ _]', '', word)\n",
    "        word = re.sub('[^\\w\\s]', '', word)\n",
    "        word = re.sub('\\s\\W','',word)  \n",
    "        word = re.sub('\\W\\s','',word) \n",
    "        word = re.sub(r'http\\S+','', word)\n",
    "\n",
    "        if (word not in stopwords):\n",
    "            word = ''.join(char for char in word if ord(char)<128)            \n",
    "            sentence.append(word)\n",
    "    return \" \".join(sentence)\n",
    "        \n",
    "\n",
    "data['text'] = [cleaning(s) for s in data['text']]\n",
    "data['description'] = [cleaning(s) for s in data['description']]"
   ]
  },
  {
   "cell_type": "code",
   "execution_count": 8,
   "metadata": {
    "collapsed": true
   },
   "outputs": [],
   "source": [
    "#lemmatize the tokens from \"text\" and \"description\" attribute to their dictionary words\n",
    "lemma = nltk.WordNetLemmatizer()\n",
    "def lemmatization(column_name):\n",
    "    corpus = []\n",
    "    for entry in data[column_name]:\n",
    "        entry = str(entry)\n",
    "        entry = nltk.word_tokenize(entry)\n",
    "        entry = [lemma.lemmatize(word) for word in entry]\n",
    "        for word in entry:\n",
    "            if(word not in stopwords):\n",
    "                word = re.sub('[^\\w\\s]', '', word)        \n",
    "        entry = \" \".join(entry)\n",
    "        corpus.append(entry)\n",
    "    return corpus\n",
    "\n",
    "descriptionList = lemmatization('description')        \n",
    "tweetList = lemmatization(\"text\")\n"
   ]
  },
  {
   "cell_type": "code",
   "execution_count": 9,
   "metadata": {
    "collapsed": true
   },
   "outputs": [],
   "source": [
    "#tf-idf vectorizer with n-grams = (1,4)\n",
    "tweet_vectorizer = TfidfVectorizer(max_features = 15000, ngram_range = (1,4))    \n",
    "description_vectorizer = TfidfVectorizer(max_features = 15000, ngram_range = (1,4))    \n",
    "\n",
    "text_corpus = tweet_vectorizer.fit_transform(tweetList).toarray()\n",
    "description_corpus = description_vectorizer.fit_transform(descriptionList).toarray()"
   ]
  },
  {
   "cell_type": "code",
   "execution_count": 10,
   "metadata": {
    "collapsed": true
   },
   "outputs": [],
   "source": [
    "#concatenate the text and description corpus\n",
    "finalDf = np.concatenate((text_corpus, description_corpus), axis = 1)"
   ]
  },
  {
   "cell_type": "code",
   "execution_count": 11,
   "metadata": {
    "collapsed": true
   },
   "outputs": [],
   "source": [
    "x = finalDf[:,:] #combination of text and description corpus\n",
    "y = data.iloc[:,-1].values # gender attribute"
   ]
  },
  {
   "cell_type": "code",
   "execution_count": 12,
   "metadata": {
    "collapsed": true
   },
   "outputs": [],
   "source": [
    "#feature selection\n",
    "selector = SelectKBest(chi2, k = 8000).fit(x,y)\n",
    "x = selector.transform(x)\n"
   ]
  },
  {
   "cell_type": "code",
   "execution_count": 13,
   "metadata": {},
   "outputs": [],
   "source": [
    "#train-test split to generate test set and training set\n",
    "from sklearn.model_selection import train_test_split\n",
    "x_train,x_test,y_train,y_test = train_test_split(x,y,test_size = 0.2, random_state = 0)"
   ]
  },
  {
   "cell_type": "code",
   "execution_count": 14,
   "metadata": {},
   "outputs": [
    {
     "name": "stdout",
     "output_type": "stream",
     "text": [
      "time taken:  0.1 s\n",
      "             precision    recall  f1-score   support\n",
      "\n",
      "      brand       0.86      0.55      0.67       860\n",
      "     female       0.63      0.84      0.72      1312\n",
      "       male       0.64      0.57      0.60      1079\n",
      "\n",
      "avg / total       0.69      0.67      0.67      3251\n",
      "\n",
      "accuracy:  0.671485696709\n"
     ]
    }
   ],
   "source": [
    "#Multinomial Naive Bayes Classifier\n",
    "from sklearn.naive_bayes import MultinomialNB\n",
    "\n",
    "NaiveBayes_Classifier = MultinomialNB()\n",
    "NaiveBayes_Classifier.fit(x_train,y_train)\n",
    "t = time()\n",
    "y_predGNB = NaiveBayes_Classifier.predict(x_test)\n",
    "\n",
    "cm = confusion_matrix(y_test, y_predGNB)\n",
    "print(\"time taken: \", round(time() - t, 3), \"s\")\n",
    "print(classification_report(y_test, y_predGNB, target_names=['brand', 'female', 'male']))\n",
    "print(\"accuracy: \",NaiveBayes_Classifier.score(x_test,y_test))"
   ]
  },
  {
   "cell_type": "code",
   "execution_count": 15,
   "metadata": {},
   "outputs": [
    {
     "name": "stdout",
     "output_type": "stream",
     "text": [
      "time taken:  0.863 s\n",
      "             precision    recall  f1-score   support\n",
      "\n",
      "      brand       0.77      0.50      0.60       860\n",
      "     female       0.52      0.86      0.65      1312\n",
      "       male       0.62      0.32      0.42      1079\n",
      "\n",
      "avg / total       0.62      0.58      0.56      3251\n",
      "\n",
      "accuracy:  0.581667179329\n"
     ]
    }
   ],
   "source": [
    "#Random Forest Classifier\n",
    "from sklearn.ensemble import RandomForestClassifier\n",
    "RandomForest_classifier = RandomForestClassifier(n_estimators = 80, random_state = 0, max_depth=100)\n",
    "RandomForest_classifier.fit(x_train,y_train)\n",
    "t = time()\n",
    "y_predRFC = RandomForest_classifier.predict(x_test)\n",
    "\n",
    "cm = confusion_matrix(y_test, y_predRFC)\n",
    "print(\"time taken: \", round(time() - t, 3), \"s\")\n",
    "print(classification_report(y_test, y_predRFC, target_names=['brand', 'female', 'male']))\n",
    "print(\"accuracy: \",RandomForest_classifier.score(x_test,y_test))\n"
   ]
  },
  {
   "cell_type": "code",
   "execution_count": 16,
   "metadata": {},
   "outputs": [
    {
     "name": "stdout",
     "output_type": "stream",
     "text": [
      "time taken:  0.083 s\n",
      "             precision    recall  f1-score   support\n",
      "\n",
      "      brand       0.80      0.64      0.71       860\n",
      "     female       0.63      0.78      0.69      1312\n",
      "       male       0.63      0.55      0.58      1079\n",
      "\n",
      "avg / total       0.67      0.66      0.66      3251\n",
      "\n",
      "accuracy:  0.664103352815\n"
     ]
    }
   ],
   "source": [
    "#Logistic Regression Classifier\n",
    "from sklearn.linear_model import LogisticRegression\n",
    "LogisticRegression_classifier = LogisticRegression(multi_class='ovr', random_state = 0)\n",
    "LogisticRegression_classifier.fit(x_train,y_train)\n",
    "t = time()\n",
    "y_predLR = LogisticRegression_classifier.predict(x_test)\n",
    "\n",
    "cm = confusion_matrix(y_test, y_predLR)\n",
    "print(\"time taken: \", round(time() - t, 3), \"s\")\n",
    "print(classification_report(y_test, y_predLR, target_names=['brand', 'female', 'male']))\n",
    "print(\"accuracy: \",LogisticRegression_classifier.score(x_test,y_test))"
   ]
  },
  {
   "cell_type": "code",
   "execution_count": 17,
   "metadata": {},
   "outputs": [
    {
     "name": "stdout",
     "output_type": "stream",
     "text": [
      "time taken:  0.083 s\n",
      "             precision    recall  f1-score   support\n",
      "\n",
      "      brand       0.78      0.67      0.72       860\n",
      "     female       0.68      0.77      0.72      1312\n",
      "       male       0.65      0.62      0.64      1079\n",
      "\n",
      "avg / total       0.70      0.70      0.69      3251\n",
      "\n",
      "accuracy:  0.695170716703\n"
     ]
    }
   ],
   "source": [
    "#Linear SVM Classifier\n",
    "from sklearn.svm import LinearSVC\n",
    "SVM_classifier = LinearSVC()\n",
    "SVM_classifier.fit(x_train, y_train)\n",
    "t = time()\n",
    "y_predSVC = SVM_classifier.predict(x_test)\n",
    "\n",
    "cm = confusion_matrix(y_test, y_predSVC)\n",
    "print(\"time taken: \", round(time() - t, 3), \"s\")\n",
    "print(classification_report(y_test, y_predSVC, target_names=['brand', 'female', 'male']))\n",
    "print(\"accuracy: \", SVM_classifier.score(x_test,y_test))"
   ]
  },
  {
   "cell_type": "code",
   "execution_count": null,
   "metadata": {
    "collapsed": true
   },
   "outputs": [],
   "source": [
    "#KNN Classifier\n",
    "from sklearn.neighbors import KNeighborsClassifier\n",
    "KNN_classifier = KNeighborsClassifier(n_neighbors = 5, metric = 'minkowski', p = 2)\n",
    "KNN_classifier.fit(x_train, y_train)\n",
    "t = time()\n",
    "y_predKNN = KNN_classifier.predict(x_test)\n",
    "\n",
    "cm = confusion_matrix(y_test, y_predKNN)\n",
    "print(\"time taken: \", round(time() - t, 3), \"s\")\n",
    "print(classification_report(y_test, y_predSVC, target_names=['brand', 'female', 'male']))\n",
    "print(\"accuracy: \", KNN_classifier.score(x_test,y_test))"
   ]
  },
  {
   "cell_type": "code",
   "execution_count": 18,
   "metadata": {},
   "outputs": [
    {
     "name": "stdout",
     "output_type": "stream",
     "text": [
      "time taken:  0.204 s\n",
      "             precision    recall  f1-score   support\n",
      "\n",
      "      brand       0.77      0.69      0.73       860\n",
      "     female       0.64      0.83      0.72      1312\n",
      "       male       0.70      0.50      0.59      1079\n",
      "\n",
      "avg / total       0.69      0.69      0.68      3251\n",
      "\n",
      "accuracy:  0.685635189173\n"
     ]
    }
   ],
   "source": [
    "#Ensemble Classifier (Voting)\n",
    "from sklearn.ensemble import VotingClassifier\n",
    "ensemble_classifier = VotingClassifier(estimators=[('mnb', NaiveBayes_Classifier), ('SVM', SVM_classifier )], voting='hard')\n",
    "ensemble_classifier.fit(x_train, y_train)\n",
    "t = time()\n",
    "y_predEnsem = ensemble_classifier.predict(x_test)\n",
    "\n",
    "cm = confusion_matrix(y_test, y_predEnsem)\n",
    "print(\"time taken: \", round(time() - t, 3), \"s\")\n",
    "print(classification_report(y_test, y_predEnsem, target_names=['brand', 'female', 'male']))\n",
    "print(\"accuracy: \", ensemble_classifier.score(x_test,y_test))"
   ]
  },
  {
   "cell_type": "code",
   "execution_count": 19,
   "metadata": {},
   "outputs": [
    {
     "data": {
      "text/plain": [
       "<matplotlib.figure.Figure at 0x1ba5d26bda0>"
      ]
     },
     "metadata": {},
     "output_type": "display_data"
    },
    {
     "data": {
      "image/png": "[encoded data removed]",
      "text/plain": [
       "<matplotlib.figure.Figure at 0x1ba5d26bcf8>"
      ]
     },
     "metadata": {},
     "output_type": "display_data"
    }
   ],
   "source": [
    "#plotting roc curve\n",
    "y_test = [ i if (i==1) else 0 for i in y_test  ]\n",
    "\n",
    "plt.figure()\n",
    "plt.subplots(figsize=(8,6))\n",
    "\n",
    "y_predGNB = [ i if (i==1) else 0 for i in y_predGNB  ]\n",
    "fpr, tpr, _ = roc_curve(y_test, y_predGNB, pos_label=1)\n",
    "plt.plot(fpr, tpr, 'b', label=\"Naive Bayes, AUC=\" + str(round(roc_auc_score(y_test, y_predGNB), 3)))\n",
    "\n",
    "y_predRFC = [ i if (i==1) else 0 for i in y_predRFC ]\n",
    "fpr, tpr, _ = roc_curve(y_test, y_predRFC)\n",
    "plt.plot(fpr, tpr, 'r', label=\"Random Forest, AUC=\" + str(round(roc_auc_score(y_test, y_predRFC), 3)))\n",
    "\n",
    "y_predLR = [ i if (i==1) else 0 for i in y_predLR  ]\n",
    "fpr, tpr, _ = roc_curve(y_test, y_predLR)\n",
    "plt.plot(fpr, tpr, 'g', label=\"Logistic Regression, AUC=\" + str(round(roc_auc_score(y_test, y_predLR), 3)))\n",
    "\n",
    "y_predSVC = [ i if (i==1) else 0 for i in y_predSVC  ]\n",
    "fpr, tpr, _ = roc_curve(y_test, y_predSVC)\n",
    "plt.plot(fpr, tpr, 'm', label=\"SVM, AUC=\" + str(round(roc_auc_score(y_test, y_predSVC), 3)))\n",
    "\n",
    "y_predEnsem = [ i if (i==1) else 0 for i in y_predEnsem  ]\n",
    "fpr, tpr, _ = roc_curve(y_test, y_predEnsem)\n",
    "plt.plot(fpr, tpr, 'y', label=\"Ensemble, AUC=\" + str(round(roc_auc_score(y_test, y_predEnsem), 3)))\n",
    "\n",
    "plt.plot([0, 1], [0, 1], color='navy', lw=2, linestyle='--')\n",
    "plt.legend()\n",
    "plt.show()"
   ]
  },
  {
   "cell_type": "code",
   "execution_count": null,
   "metadata": {
    "collapsed": true
   },
   "outputs": [],
   "source": []
  }
 ],
 "metadata": {
  "kernelspec": {
   "display_name": "Python 3",
   "language": "python",
   "name": "python3"
  },
  "language_info": {
   "codemirror_mode": {
    "name": "ipython",
    "version": 3
   },
   "file_extension": ".py",
   "mimetype": "text/x-python",
   "name": "python",
   "nbconvert_exporter": "python",
   "pygments_lexer": "ipython3",
   "version": "3.6.4"
  }
 },
 "nbformat": 4,
 "nbformat_minor": 2
}
